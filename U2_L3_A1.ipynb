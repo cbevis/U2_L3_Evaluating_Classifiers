{
 "cells": [
  {
   "cell_type": "code",
   "execution_count": 1,
   "metadata": {},
   "outputs": [],
   "source": [
    "%matplotlib inline\n",
    "import numpy as np\n",
    "import pandas as pd\n",
    "import scipy\n",
    "import sklearn\n",
    "import matplotlib.pyplot as plt\n",
    "import seaborn as sns"
   ]
  },
  {
   "cell_type": "code",
   "execution_count": 2,
   "metadata": {},
   "outputs": [],
   "source": [
    "# Grab and process data\n",
    "data_path = 'smsspamcollection'\n",
    "\n",
    "sms_raw = pd.read_csv(data_path, delimiter='\\t', header=None)\n",
    "sms_raw.columns = ['spam', 'message']\n",
    "\n",
    "# Enumerate our spammy keywords\n",
    "keywords = ['click', 'offer', 'winner', 'buy', 'free', 'cash', 'urgent']\n",
    "\n",
    "for key in keywords:\n",
    "    sms_raw[str(key)] = sms_raw.message.str.contains(\n",
    "        ' ' + str(key) + ' ',\n",
    "        case=False\n",
    "    )\n",
    "\n",
    "sms_raw['allcaps'] = sms_raw.message.str.isupper()\n",
    "sms_raw['spam'] = (sms_raw['spam'] == 'spam')\n",
    "data = sms_raw[keywords + ['allcaps']]\n",
    "target = sms_raw['spam']\n",
    "\n",
    "from sklearn.naive_bayes import BernoulliNB\n",
    "bnb = BernoulliNB()\n",
    "y_pred = bnb.fit(data, target).predict(data)\n"
   ]
  },
  {
   "cell_type": "code",
   "execution_count": 3,
   "metadata": {},
   "outputs": [
    {
     "name": "stdout",
     "output_type": "stream",
     "text": [
      "4968 out of 5572 were correctly classified as spam.\n",
      "89.16% were correctly classified\n"
     ]
    }
   ],
   "source": [
    "# Calculate accuracy of the model here\n",
    "n = len(sms_raw.message)\n",
    "correct = sms_raw[sms_raw['spam'] == y_pred].message.count()\n",
    "percent_correct = correct/n * 100\n",
    "\n",
    "print('{} out of {} were correctly classified as spam.'.format(correct, n))\n",
    "print('{:.2f}% were correctly classified'.format(percent_correct))"
   ]
  },
  {
   "cell_type": "code",
   "execution_count": 4,
   "metadata": {},
   "outputs": [
    {
     "name": "stdout",
     "output_type": "stream",
     "text": [
      "Number of mislabeled points out of a total 5572 points : 604\n"
     ]
    }
   ],
   "source": [
    "# How Thinkful calculated accuracy\n",
    "# Display our results.\n",
    "print(\"Number of mislabeled points out of a total {} points : {}\".format(\n",
    "    data.shape[0],\n",
    "    (target != y_pred).sum()\n",
    "))"
   ]
  },
  {
   "cell_type": "code",
   "execution_count": 5,
   "metadata": {},
   "outputs": [
    {
     "data": {
      "text/plain": [
       "array([[4770,   55],\n",
       "       [ 549,  198]])"
      ]
     },
     "execution_count": 5,
     "metadata": {},
     "output_type": "execute_result"
    }
   ],
   "source": [
    "from sklearn.metrics import confusion_matrix\n",
    "confusion_matrix(target, y_pred)"
   ]
  },
  {
   "cell_type": "code",
   "execution_count": 16,
   "metadata": {},
   "outputs": [
    {
     "name": "stdout",
     "output_type": "stream",
     "text": [
      "198 out of 747 positives were correctly identified for a sensitivity of 0.27\n",
      "4770 out of 4825 negatives were correctly identified for a specificity of 0.99\n"
     ]
    }
   ],
   "source": [
    "# confusion matrix the manual way\n",
    "\n",
    "confusion = np.zeros((2,2))\n",
    "# Negatives correctly identified\n",
    "confusion[0][0] = ((target == y_pred) & (target == 0)).sum()\n",
    "# Negatives incorrectly identified\n",
    "confusion[0][1] = ((target != y_pred) & (target == 0)).sum()\n",
    "# Positives correctly identified\n",
    "confusion[1][1] = ((target == y_pred) & (target == 1)).sum()\n",
    "# Positives incorrectly identified\n",
    "confusion[1][0] = ((target != y_pred) & (target == 1)).sum()\n",
    "\n",
    "pos_tot = confusion[1][1] + confusion[1][0]\n",
    "neg_tot = confusion[0][0] + confusion[0][1]\n",
    "\n",
    "print('{:.0f} out of {:.0f} positives were correctly identified for a sensitivity of {:.2f}'\n",
    "    .format(confusion[1][1], pos_tot, confusion[1][1]/pos_tot))\n",
    "\n",
    "print('{:.0f} out of {:.0f} negatives were correctly identified for a specificity of {:.2f}'\n",
    "    .format(confusion[0][0], neg_tot, confusion[0][0]/neg_tot))\n"
   ]
  },
  {
   "cell_type": "code",
   "execution_count": null,
   "metadata": {},
   "outputs": [],
   "source": []
  }
 ],
 "metadata": {
  "kernelspec": {
   "display_name": "Python 3",
   "language": "python",
   "name": "python3"
  },
  "language_info": {
   "codemirror_mode": {
    "name": "ipython",
    "version": 3
   },
   "file_extension": ".py",
   "mimetype": "text/x-python",
   "name": "python",
   "nbconvert_exporter": "python",
   "pygments_lexer": "ipython3",
   "version": "3.7.0"
  }
 },
 "nbformat": 4,
 "nbformat_minor": 2
}
