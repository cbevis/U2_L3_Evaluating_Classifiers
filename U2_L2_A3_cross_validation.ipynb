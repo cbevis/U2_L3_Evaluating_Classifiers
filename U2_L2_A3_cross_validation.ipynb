{
 "cells": [
  {
   "cell_type": "code",
   "execution_count": 1,
   "metadata": {},
   "outputs": [],
   "source": [
    "import pandas as pd\n",
    "import sklearn\n",
    "import numpy as np\n",
    "import matplotlib.pyplot as plt"
   ]
  },
  {
   "cell_type": "code",
   "execution_count": 2,
   "metadata": {},
   "outputs": [],
   "source": [
    "# Grab and process the data\n",
    "data_path = 'SMSspamcollection'\n",
    "\n",
    "sms_raw = pd.read_csv(data_path, delimiter='\\t', header=None)\n",
    "sms_raw.columns = ['spam', 'message']\n",
    "\n",
    "# Enumerate our spammy keywords\n",
    "keywords = ['click', 'offer', 'winner', 'buy', 'free', 'cash', 'urgent']\n",
    "\n",
    "for key in keywords:\n",
    "    sms_raw[str(key)] = sms_raw.message.str.contains(\n",
    "        ' ' + str(key) + ' ',\n",
    "        case = False\n",
    ")\n",
    "    \n",
    "sms_raw['allcaps'] = sms_raw.message.str.isupper()\n",
    "sms_raw['spam'] = (sms_raw['spam'] == 'spam')\n",
    "data = sms_raw[keywords + ['allcaps']]\n",
    "target = sms_raw['spam']\n",
    "\n",
    "from sklearn.naive_bayes import BernoulliNB\n",
    "bnb = BernoulliNB()\n",
    "y_pred = bnb.fit(data, target).predict(data)\n"
   ]
  },
  {
   "cell_type": "code",
   "execution_count": 3,
   "metadata": {},
   "outputs": [
    {
     "name": "stdout",
     "output_type": "stream",
     "text": [
      "With 20% Holdout: 0.885201793721973\n",
      "Testing on Sample: 0.8916008614501076\n"
     ]
    }
   ],
   "source": [
    "# Test your model with different holdout groups\n",
    "\n",
    "from sklearn.model_selection import train_test_split\n",
    "# Use train_test_split to create the necesssary training and test groups\n",
    "\n",
    "X_train, X_test, y_train, y_test = train_test_split(data, target, test_size=0.2)\n",
    "print('With 20% Holdout: ' + str(bnb.fit(X_train, y_train).score(X_test, y_test)))\n",
    "print('Testing on Sample: ' + str(bnb.fit(data, target).score(data, target))) \n",
    "      "
   ]
  },
  {
   "cell_type": "code",
   "execution_count": 4,
   "metadata": {},
   "outputs": [
    {
     "data": {
      "text/plain": [
       "array([0.89784946, 0.89426523, 0.89426523, 0.890681  , 0.89605735,\n",
       "       0.89048474, 0.88150808, 0.89028777, 0.88489209, 0.89568345])"
      ]
     },
     "execution_count": 4,
     "metadata": {},
     "output_type": "execute_result"
    }
   ],
   "source": [
    "from sklearn.model_selection import cross_val_score\n",
    "cross_val_score(bnb, data, target, cv=10)"
   ]
  },
  {
   "cell_type": "code",
   "execution_count": 5,
   "metadata": {},
   "outputs": [
    {
     "name": "stdout",
     "output_type": "stream",
     "text": [
      "<class 'pandas.core.frame.DataFrame'>\n",
      "RangeIndex: 5572 entries, 0 to 5571\n",
      "Data columns (total 10 columns):\n",
      "spam       5572 non-null bool\n",
      "message    5572 non-null object\n",
      "click      5572 non-null bool\n",
      "offer      5572 non-null bool\n",
      "winner     5572 non-null bool\n",
      "buy        5572 non-null bool\n",
      "free       5572 non-null bool\n",
      "cash       5572 non-null bool\n",
      "urgent     5572 non-null bool\n",
      "allcaps    5572 non-null bool\n",
      "dtypes: bool(9), object(1)\n",
      "memory usage: 92.6+ KB\n"
     ]
    }
   ],
   "source": [
    "# Implement your own cross validation\n",
    "sms_raw.info()"
   ]
  },
  {
   "cell_type": "code",
   "execution_count": 6,
   "metadata": {},
   "outputs": [],
   "source": [
    "sms_raw['kfolds'] = 0\n",
    "sms_raw['kfolds'] = [np.random.randint(10) for x in sms_raw['kfolds']]"
   ]
  },
  {
   "cell_type": "code",
   "execution_count": 25,
   "metadata": {},
   "outputs": [
    {
     "name": "stdout",
     "output_type": "stream",
     "text": [
      "0 Fold Score: 0.8982142857142857\n",
      "1 Fold Score: 0.8856152512998267\n",
      "2 Fold Score: 0.8957169459962756\n",
      "3 Fold Score: 0.8723404255319149\n",
      "4 Fold Score: 0.8894736842105263\n",
      "5 Fold Score: 0.8971119133574007\n",
      "6 Fold Score: 0.8912280701754386\n",
      "7 Fold Score: 0.895017793594306\n",
      "8 Fold Score: 0.8994307400379506\n",
      "9 Fold Score: 0.8892921960072595\n"
     ]
    }
   ],
   "source": [
    "for x in range(0,10):\n",
    "    train_data = sms_raw[sms_raw['kfolds'] != x][keywords + ['allcaps']]\n",
    "    train_target = sms_raw[sms_raw['kfolds'] != x]['spam']\n",
    "    test_data = sms_raw[sms_raw['kfolds'] == x][keywords + ['allcaps']]\n",
    "    test_target = sms_raw[sms_raw['kfolds'] == x]['spam']\n",
    "    \n",
    "    print('{} Fold Score: '.format(x) + \n",
    "         str(bnb.fit(train_data, train_target).score(test_data, test_target)))\n"
   ]
  },
  {
   "cell_type": "code",
   "execution_count": 27,
   "metadata": {},
   "outputs": [
    {
     "name": "stdout",
     "output_type": "stream",
     "text": [
      "[[4770   55]\n",
      " [ 549  198]]\n"
     ]
    }
   ],
   "source": [
    "from sklearn.metrics import confusion_matrix\n",
    "\n",
    "# Print confusion matrix for the original model on all data\n",
    "print('Confusion matrix all data')\n",
    "print(confusion_matrix(sms_raw['spam'], y_pred))\n"
   ]
  },
  {
   "cell_type": "code",
   "execution_count": 38,
   "metadata": {},
   "outputs": [
    {
     "name": "stdout",
     "output_type": "stream",
     "text": [
      "0.89\n",
      "[[945  12]\n",
      " [116  42]]\n"
     ]
    }
   ],
   "source": [
    "# Model accuracy and \n",
    "# Confusion matrix for 20% holdout\n",
    "model = bnb.fit(X_train, y_train)\n",
    "model_pred1 = model.predict(X_test)\n",
    "print('{:.2f}'.format(model.score(X_test, y_test)))\n",
    "print(confusion_matrix(y_test, model_pred1))\n"
   ]
  },
  {
   "cell_type": "markdown",
   "metadata": {},
   "source": [
    "These models were barely more accurate than the dominate class.  \n",
    "To improve the models:\n",
    "1) Cost function for errors\n",
    "2) Deliberately oversample the spam class\n",
    "3) Use a different method like SVM and introduce a cutoff or specific rule"
   ]
  }
 ],
 "metadata": {
  "kernelspec": {
   "display_name": "Python 3",
   "language": "python",
   "name": "python3"
  },
  "language_info": {
   "codemirror_mode": {
    "name": "ipython",
    "version": 3
   },
   "file_extension": ".py",
   "mimetype": "text/x-python",
   "name": "python",
   "nbconvert_exporter": "python",
   "pygments_lexer": "ipython3",
   "version": "3.7.0"
  }
 },
 "nbformat": 4,
 "nbformat_minor": 2
}
